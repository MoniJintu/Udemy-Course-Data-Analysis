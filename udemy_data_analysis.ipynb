{
 "cells": [
  {
   "cell_type": "markdown",
   "id": "830077b4",
   "metadata": {},
   "source": [
    "# Udemy Data Analysis - Jupyter Notebook"
   ]
  },
  {
   "cell_type": "code",
   "execution_count": null,
   "id": "87d1de66",
   "metadata": {},
   "outputs": [],
   "source": [
    "import pandas as pd\n",
    "import matplotlib.pyplot as plt\n",
    "import seaborn as sns\n",
    "\n",
    "# Load dataset\n",
    "df = pd.read_csv(\"udemy_courses.csv\")\n",
    "df.head()\n"
   ]
  },
  {
   "cell_type": "markdown",
   "id": "1234a589",
   "metadata": {},
   "source": [
    "## Basic Statistics and Info"
   ]
  },
  {
   "cell_type": "code",
   "execution_count": null,
   "id": "d73477bd",
   "metadata": {},
   "outputs": [],
   "source": [
    "df.info()\n",
    "df.describe()\n"
   ]
  },
  {
   "cell_type": "markdown",
   "id": "a7fc2799",
   "metadata": {},
   "source": [
    "## Top Rated Courses"
   ]
  },
  {
   "cell_type": "code",
   "execution_count": null,
   "id": "cc5dd652",
   "metadata": {},
   "outputs": [],
   "source": [
    "top_rated = df.sort_values(by=\"Rating\", ascending=False)\n",
    "top_rated[['Title', 'Instructor', 'Rating']].head()\n"
   ]
  },
  {
   "cell_type": "markdown",
   "id": "ed4f86a9",
   "metadata": {},
   "source": [
    "## Course Ratings Distribution"
   ]
  },
  {
   "cell_type": "code",
   "execution_count": null,
   "id": "46f7b977",
   "metadata": {},
   "outputs": [],
   "source": [
    "plt.figure(figsize=(8, 5))\n",
    "sns.histplot(df['Rating'], bins=5, kde=True)\n",
    "plt.title(\"Distribution of Course Ratings\")\n",
    "plt.xlabel(\"Rating\")\n",
    "plt.ylabel(\"Frequency\")\n",
    "plt.grid(True)\n",
    "plt.show()\n"
   ]
  },
  {
   "cell_type": "markdown",
   "id": "8dec5d57",
   "metadata": {},
   "source": [
    "## Correlation Heatmap"
   ]
  },
  {
   "cell_type": "code",
   "execution_count": null,
   "id": "138f69fc",
   "metadata": {},
   "outputs": [],
   "source": [
    "plt.figure(figsize=(8, 5))\n",
    "sns.heatmap(df.corr(numeric_only=True), annot=True, cmap=\"YlGnBu\")\n",
    "plt.title(\"Correlation Heatmap\")\n",
    "plt.show()\n"
   ]
  },
  {
   "cell_type": "markdown",
   "id": "3aa7c838",
   "metadata": {},
   "source": [
    "## Instructor-wise Average Rating"
   ]
  },
  {
   "cell_type": "code",
   "execution_count": null,
   "id": "c0a56fc9",
   "metadata": {},
   "outputs": [],
   "source": [
    "instructor_avg = df.groupby('Instructor')['Rating'].mean().sort_values(ascending=False)\n",
    "instructor_avg.plot(kind='bar', figsize=(8, 5), title='Average Rating per Instructor')\n",
    "plt.ylabel(\"Average Rating\")\n",
    "plt.grid(axis='y')\n",
    "plt.show()\n"
   ]
  }
 ],
 "metadata": {},
 "nbformat": 4,
 "nbformat_minor": 5
}
